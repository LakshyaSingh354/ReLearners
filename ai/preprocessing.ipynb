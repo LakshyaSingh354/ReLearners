{
 "cells": [
  {
   "cell_type": "code",
   "execution_count": 1,
   "metadata": {},
   "outputs": [],
   "source": [
    "import pandas as pd"
   ]
  },
  {
   "cell_type": "code",
   "execution_count": 3,
   "metadata": {},
   "outputs": [],
   "source": [
    "df = pd.read_csv('data/raw/job_data.csv', encoding='latin1', usecols=['job_skills', 'job_summary', 'job_title'])"
   ]
  },
  {
   "cell_type": "code",
   "execution_count": 4,
   "metadata": {},
   "outputs": [
    {
     "data": {
      "text/html": [
       "<div>\n",
       "<style scoped>\n",
       "    .dataframe tbody tr th:only-of-type {\n",
       "        vertical-align: middle;\n",
       "    }\n",
       "\n",
       "    .dataframe tbody tr th {\n",
       "        vertical-align: top;\n",
       "    }\n",
       "\n",
       "    .dataframe thead th {\n",
       "        text-align: right;\n",
       "    }\n",
       "</style>\n",
       "<table border=\"1\" class=\"dataframe\">\n",
       "  <thead>\n",
       "    <tr style=\"text-align: right;\">\n",
       "      <th></th>\n",
       "      <th>job_skills</th>\n",
       "      <th>job_summary</th>\n",
       "      <th>job_title</th>\n",
       "    </tr>\n",
       "  </thead>\n",
       "  <tbody>\n",
       "    <tr>\n",
       "      <th>0</th>\n",
       "      <td>Bar Supervision, Team Leadership, Beverage Sal...</td>\n",
       "      <td>About Us\\nAt Aldar Hospitality, we're not just...</td>\n",
       "      <td>Bar Supervisor - Saadiyat Beach Club</td>\n",
       "    </tr>\n",
       "    <tr>\n",
       "      <th>1</th>\n",
       "      <td>Mechanical engineering, HVAC equipment mainten...</td>\n",
       "      <td>Job Description\\nWe are currently seeking for ...</td>\n",
       "      <td>Duty Engineer</td>\n",
       "    </tr>\n",
       "    <tr>\n",
       "      <th>2</th>\n",
       "      <td>Mechanical Engineering, NFPA Code, UAE Fire an...</td>\n",
       "      <td>Company Description\\nLet's SOCOTEC your potent...</td>\n",
       "      <td>EAU - Fire &amp; Life Safety Engineer (M/F)</td>\n",
       "    </tr>\n",
       "    <tr>\n",
       "      <th>3</th>\n",
       "      <td>Painting, Plumbing, Electrical wiring, Pool an...</td>\n",
       "      <td>Company Description\\nContemporary, modern and ...</td>\n",
       "      <td>Electrician</td>\n",
       "    </tr>\n",
       "    <tr>\n",
       "      <th>4</th>\n",
       "      <td>Entertainment Management, Program Creation, Ev...</td>\n",
       "      <td>Welcome to Apt Resources! We are currently see...</td>\n",
       "      <td>Entertainment Manager - F&amp;B</td>\n",
       "    </tr>\n",
       "  </tbody>\n",
       "</table>\n",
       "</div>"
      ],
      "text/plain": [
       "                                          job_skills  \\\n",
       "0  Bar Supervision, Team Leadership, Beverage Sal...   \n",
       "1  Mechanical engineering, HVAC equipment mainten...   \n",
       "2  Mechanical Engineering, NFPA Code, UAE Fire an...   \n",
       "3  Painting, Plumbing, Electrical wiring, Pool an...   \n",
       "4  Entertainment Management, Program Creation, Ev...   \n",
       "\n",
       "                                         job_summary  \\\n",
       "0  About Us\\nAt Aldar Hospitality, we're not just...   \n",
       "1  Job Description\\nWe are currently seeking for ...   \n",
       "2  Company Description\\nLet's SOCOTEC your potent...   \n",
       "3  Company Description\\nContemporary, modern and ...   \n",
       "4  Welcome to Apt Resources! We are currently see...   \n",
       "\n",
       "                                 job_title  \n",
       "0     Bar Supervisor - Saadiyat Beach Club  \n",
       "1                            Duty Engineer  \n",
       "2  EAU - Fire & Life Safety Engineer (M/F)  \n",
       "3                              Electrician  \n",
       "4              Entertainment Manager - F&B  "
      ]
     },
     "execution_count": 4,
     "metadata": {},
     "output_type": "execute_result"
    }
   ],
   "source": [
    "df.head()"
   ]
  },
  {
   "cell_type": "code",
   "execution_count": 5,
   "metadata": {},
   "outputs": [],
   "source": [
    "df['job_skills'] = df['job_skills'].str.lower()\n",
    "df['job_summary'] = df['job_summary'].str.lower().str.replace('\\n', ' ')\n",
    "df['job_title'] = df['job_title'].str.lower()"
   ]
  },
  {
   "cell_type": "code",
   "execution_count": 6,
   "metadata": {},
   "outputs": [
    {
     "data": {
      "text/html": [
       "<div>\n",
       "<style scoped>\n",
       "    .dataframe tbody tr th:only-of-type {\n",
       "        vertical-align: middle;\n",
       "    }\n",
       "\n",
       "    .dataframe tbody tr th {\n",
       "        vertical-align: top;\n",
       "    }\n",
       "\n",
       "    .dataframe thead th {\n",
       "        text-align: right;\n",
       "    }\n",
       "</style>\n",
       "<table border=\"1\" class=\"dataframe\">\n",
       "  <thead>\n",
       "    <tr style=\"text-align: right;\">\n",
       "      <th></th>\n",
       "      <th>job_skills</th>\n",
       "      <th>job_summary</th>\n",
       "      <th>job_title</th>\n",
       "    </tr>\n",
       "  </thead>\n",
       "  <tbody>\n",
       "    <tr>\n",
       "      <th>0</th>\n",
       "      <td>bar supervision, team leadership, beverage sal...</td>\n",
       "      <td>about us at aldar hospitality, we're not just ...</td>\n",
       "      <td>bar supervisor - saadiyat beach club</td>\n",
       "    </tr>\n",
       "    <tr>\n",
       "      <th>1</th>\n",
       "      <td>mechanical engineering, hvac equipment mainten...</td>\n",
       "      <td>job description we are currently seeking for p...</td>\n",
       "      <td>duty engineer</td>\n",
       "    </tr>\n",
       "    <tr>\n",
       "      <th>2</th>\n",
       "      <td>mechanical engineering, nfpa code, uae fire an...</td>\n",
       "      <td>company description let's socotec your potenti...</td>\n",
       "      <td>eau - fire &amp; life safety engineer (m/f)</td>\n",
       "    </tr>\n",
       "    <tr>\n",
       "      <th>3</th>\n",
       "      <td>painting, plumbing, electrical wiring, pool an...</td>\n",
       "      <td>company description contemporary, modern and e...</td>\n",
       "      <td>electrician</td>\n",
       "    </tr>\n",
       "    <tr>\n",
       "      <th>4</th>\n",
       "      <td>entertainment management, program creation, ev...</td>\n",
       "      <td>welcome to apt resources! we are currently see...</td>\n",
       "      <td>entertainment manager - f&amp;b</td>\n",
       "    </tr>\n",
       "  </tbody>\n",
       "</table>\n",
       "</div>"
      ],
      "text/plain": [
       "                                          job_skills  \\\n",
       "0  bar supervision, team leadership, beverage sal...   \n",
       "1  mechanical engineering, hvac equipment mainten...   \n",
       "2  mechanical engineering, nfpa code, uae fire an...   \n",
       "3  painting, plumbing, electrical wiring, pool an...   \n",
       "4  entertainment management, program creation, ev...   \n",
       "\n",
       "                                         job_summary  \\\n",
       "0  about us at aldar hospitality, we're not just ...   \n",
       "1  job description we are currently seeking for p...   \n",
       "2  company description let's socotec your potenti...   \n",
       "3  company description contemporary, modern and e...   \n",
       "4  welcome to apt resources! we are currently see...   \n",
       "\n",
       "                                 job_title  \n",
       "0     bar supervisor - saadiyat beach club  \n",
       "1                            duty engineer  \n",
       "2  eau - fire & life safety engineer (m/f)  \n",
       "3                              electrician  \n",
       "4              entertainment manager - f&b  "
      ]
     },
     "execution_count": 6,
     "metadata": {},
     "output_type": "execute_result"
    }
   ],
   "source": [
    "df.head()"
   ]
  },
  {
   "cell_type": "code",
   "execution_count": 7,
   "metadata": {},
   "outputs": [
    {
     "name": "stdout",
     "output_type": "stream",
     "text": [
      "Empty job_skills:  0\n",
      "Empty job_summary:  0\n",
      "Empty job_title:  0\n"
     ]
    }
   ],
   "source": [
    "print(\"Empty job_skills: \", df['job_skills'].isnull().sum())\n",
    "print(\"Empty job_summary: \", df['job_summary'].isnull().sum())\n",
    "print(\"Empty job_title: \", df['job_title'].isnull().sum())"
   ]
  },
  {
   "cell_type": "code",
   "execution_count": null,
   "metadata": {},
   "outputs": [],
   "source": [
    "df.dropna(subset=['job_skills'])"
   ]
  },
  {
   "cell_type": "code",
   "execution_count": 1,
   "metadata": {},
   "outputs": [
    {
     "ename": "NameError",
     "evalue": "name 'df' is not defined",
     "output_type": "error",
     "traceback": [
      "\u001b[0;31m---------------------------------------------------------------------------\u001b[0m",
      "\u001b[0;31mNameError\u001b[0m                                 Traceback (most recent call last)",
      "Cell \u001b[0;32mIn[1], line 1\u001b[0m\n\u001b[0;32m----> 1\u001b[0m \u001b[43mdf\u001b[49m\u001b[38;5;241m.\u001b[39mto_csv(\u001b[38;5;124m'\u001b[39m\u001b[38;5;124mdata/processed/job_data_processed.csv\u001b[39m\u001b[38;5;124m'\u001b[39m, index\u001b[38;5;241m=\u001b[39m\u001b[38;5;28;01mFalse\u001b[39;00m)\n",
      "\u001b[0;31mNameError\u001b[0m: name 'df' is not defined"
     ]
    }
   ],
   "source": [
    "df.to_csv('data/processed/job_data_processed.csv', index=False)"
   ]
  },
  {
   "cell_type": "code",
   "execution_count": 9,
   "metadata": {},
   "outputs": [
    {
     "data": {
      "text/plain": [
       "(1710419, 3)"
      ]
     },
     "execution_count": 9,
     "metadata": {},
     "output_type": "execute_result"
    }
   ],
   "source": [
    "df.shape"
   ]
  },
  {
   "cell_type": "code",
   "execution_count": 11,
   "metadata": {},
   "outputs": [
    {
     "name": "stdout",
     "output_type": "stream",
     "text": [
      "Chunk 1 saved to file.\n",
      "Chunk 2 saved to file.\n",
      "Chunk 3 saved to file.\n",
      "Chunk 4 saved to file.\n",
      "Chunk 5 saved to file.\n",
      "Chunk 6 saved to file.\n",
      "Chunk 7 saved to file.\n",
      "Chunk 8 saved to file.\n"
     ]
    }
   ],
   "source": [
    "chunksize = 215000\n",
    "chunk = 1\n",
    "for i in range(0, len(df), chunksize):\n",
    "    df.iloc[i:i+chunksize].to_csv('data/processed/job_data_'+str(chunk)+'.csv', index=False)\n",
    "    print(f'Chunk {chunk} saved to file.')\n",
    "    chunk += 1"
   ]
  }
 ],
 "metadata": {
  "kernelspec": {
   "display_name": "Python 3",
   "language": "python",
   "name": "python3"
  },
  "language_info": {
   "codemirror_mode": {
    "name": "ipython",
    "version": 3
   },
   "file_extension": ".py",
   "mimetype": "text/x-python",
   "name": "python",
   "nbconvert_exporter": "python",
   "pygments_lexer": "ipython3",
   "version": "3.12.0"
  }
 },
 "nbformat": 4,
 "nbformat_minor": 2
}
